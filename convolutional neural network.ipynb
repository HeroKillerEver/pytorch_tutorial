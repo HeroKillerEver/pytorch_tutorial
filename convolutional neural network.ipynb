{
 "cells": [
  {
   "cell_type": "code",
   "execution_count": 1,
   "metadata": {
    "collapsed": true
   },
   "outputs": [],
   "source": [
    "import torch \n",
    "from torch import nn\n",
    "from torch.autograd import Variable\n",
    "import torchvision\n",
    "import numpy as np\n",
    "from matplotlib import pyplot as plt\n",
    "import matplotlib.gridspec as gridspec\n",
    "import seaborn as sns\n",
    "import torchvision.datasets as dsets\n",
    "import torchvision.transforms as T\n",
    "from torch.utils.data import DataLoader\n",
    "%load_ext autoreload\n",
    "%autoreload 2\n",
    "%matplotlib inline\n",
    "plt.rcParams['figure.figsize'] = (20, 12)\n",
    "plt.rcParams['image.interpolation'] = 'nearest'\n",
    "plt.rcParams['image.cmap'] = 'gray'\n",
    "sns.set(color_codes=True)\n",
    "np.set_printoptions(precision=4, suppress=True)"
   ]
  },
  {
   "cell_type": "code",
   "execution_count": 2,
   "metadata": {
    "collapsed": true
   },
   "outputs": [],
   "source": [
    "def show_images(images):\n",
    "    images = np.reshape(images, [images.shape[0], -1])  # images reshape to (batch_size, D)\n",
    "    sqrtn = int(np.ceil(np.sqrt(images.shape[0])))\n",
    "    sqrtimg = int(np.ceil(np.sqrt(images.shape[1])))\n",
    "\n",
    "    fig = plt.figure(figsize=(sqrtn, sqrtn))\n",
    "    gs = gridspec.GridSpec(sqrtn, sqrtn)\n",
    "    gs.update(wspace=0.05, hspace=0.05)\n",
    "\n",
    "    for i, img in enumerate(images):\n",
    "        ax = plt.subplot(gs[i])\n",
    "        plt.axis('off')\n",
    "        ax.set_xticklabels([])\n",
    "        ax.set_yticklabels([])\n",
    "        ax.set_aspect('equal')\n",
    "        plt.imshow(img.reshape([sqrtimg,sqrtimg]), cmap=\"Blues\")\n",
    "    return "
   ]
  },
  {
   "cell_type": "code",
   "execution_count": 3,
   "metadata": {
    "collapsed": true
   },
   "outputs": [],
   "source": [
    "batch_size = 100"
   ]
  },
  {
   "cell_type": "code",
   "execution_count": 4,
   "metadata": {
    "collapsed": true
   },
   "outputs": [],
   "source": [
    "T_train = T.Compose(\n",
    "            [\n",
    "             T.RandomHorizontalFlip(),\n",
    "             T.RandomRotation(degrees=20),\n",
    "             T.ToTensor(),\n",
    "             ] \n",
    "            )\n",
    "T_test = T.Compose(\n",
    "            [\n",
    "                T.ToTensor(),\n",
    "            ]\n",
    "            )\n",
    "mnist_train = dsets.MNIST(root='./data', train=True, transform=T_train, download=True)\n",
    "mnist_test = dsets.MNIST(root='./data', train=False, transform=T_test, download=True)\n",
    "mnist_train_loader = DataLoader(mnist_train, batch_size=batch_size, shuffle=True, num_workers=5)\n",
    "mnist_test_loader = DataLoader(mnist_test, batch_size=mnist_test.__len__(), shuffle=False, num_workers=5)"
   ]
  },
  {
   "cell_type": "code",
   "execution_count": null,
   "metadata": {
    "collapsed": true,
    "scrolled": true
   },
   "outputs": [],
   "source": [
    "show_images(mnist_train_loader.__iter__().next()[0].numpy())"
   ]
  },
  {
   "cell_type": "code",
   "execution_count": 5,
   "metadata": {
    "collapsed": true
   },
   "outputs": [],
   "source": [
    "class Flatten(nn.Module):\n",
    "    def __init__(self):\n",
    "        super(Flatten, self).__init__()\n",
    "    def forward(self, x):\n",
    "        N = x.size(0)\n",
    "        return x.view(N, -1)"
   ]
  },
  {
   "cell_type": "code",
   "execution_count": 29,
   "metadata": {},
   "outputs": [
    {
     "data": {
      "text/plain": [
       "Sequential(\n",
       "  (0): Conv2d(1, 32, kernel_size=(4, 4), stride=(1, 1))\n",
       "  (1): ReLU(inplace)\n",
       "  (2): Conv2d(32, 32, kernel_size=(4, 4), stride=(1, 1))\n",
       "  (3): ReLU(inplace)\n",
       "  (4): Conv2d(32, 32, kernel_size=(4, 4), stride=(2, 2), padding=(1, 1))\n",
       "  (5): ReLU(inplace)\n",
       "  (6): Flatten(\n",
       "  )\n",
       "  (7): Linear(in_features=3872, out_features=128, bias=True)\n",
       "  (8): ReLU(inplace)\n",
       "  (9): Dropout(p=0.5)\n",
       "  (10): Linear(in_features=128, out_features=10, bias=True)\n",
       ")"
      ]
     },
     "execution_count": 29,
     "metadata": {},
     "output_type": "execute_result"
    }
   ],
   "source": [
    "model = nn.Sequential(\n",
    "        nn.Conv2d(1, 32, (4, 4), 1, padding=0), # (28 - 4 + 2*0) / 1 + 1 = 25\n",
    "        nn.ReLU(inplace=True), \n",
    "        nn.Conv2d(32, 32, (4, 4), 1, padding=0), # (25 - 4 + 2*0) / 1 + 1 = 22\n",
    "        nn.ReLU(inplace=True),\n",
    "        nn.Conv2d(32, 32, (4, 4), 2, padding=1), # (22 - 4 + 2*1) / 2 + 1 = 11\n",
    "        nn.ReLU(inplace=True),\n",
    "#         nn.Dropout2d(p=0.25),\n",
    "        Flatten(),\n",
    "        nn.Linear(11*11*32, 128),\n",
    "        nn.ReLU(inplace=True),\n",
    "        nn.Dropout(p=0.5),\n",
    "        nn.Linear(128, 10)\n",
    "        )\n",
    "model.cuda(2)"
   ]
  },
  {
   "cell_type": "code",
   "execution_count": 30,
   "metadata": {
    "collapsed": true
   },
   "outputs": [],
   "source": [
    "criterion = nn.CrossEntropyLoss()\n",
    "criterion.cuda(2)\n",
    "optim = torch.optim.Adam(model.parameters(), lr=3e-3)\n",
    "lr_scheduler = torch.optim.lr_scheduler.StepLR(optim, step_size=10, gamma=0.1)"
   ]
  },
  {
   "cell_type": "code",
   "execution_count": 40,
   "metadata": {
    "scrolled": false
   },
   "outputs": [
    {
     "name": "stdout",
     "output_type": "stream",
     "text": [
      "epoch: [40], iter:  0, loss: [ 0.1998]\n",
      "test acc: 0.9919\n",
      "epoch: [40], iter:  100, loss: [ 0.0149]\n",
      "test acc: 0.9919\n",
      "epoch: [40], iter:  200, loss: [ 0.0120]\n",
      "test acc: 0.9919\n",
      "epoch: [40], iter:  300, loss: [ 0.0071]\n",
      "test acc: 0.9919\n",
      "epoch: [40], iter:  400, loss: [ 0.0045]\n",
      "test acc: 0.9919\n",
      "epoch: [40], iter:  500, loss: [ 0.0133]\n",
      "test acc: 0.9919\n"
     ]
    }
   ],
   "source": [
    "epoch = 40\n",
    "for e in range(epoch, epoch+1):\n",
    "    model.train()\n",
    "    lr_scheduler.step()\n",
    "    for step, (images, labels) in enumerate(mnist_train_loader):\n",
    "        optim.zero_grad()\n",
    "        x, y = Variable(images.cuda(2)), Variable(labels.cuda(2))\n",
    "        y_hat = model(x)\n",
    "        loss = criterion(y_hat, y)\n",
    "        loss.backward()\n",
    "        optim.step()\n",
    "        if step % 100 == 0:\n",
    "            print 'epoch: [{0:d}], iter: {1: d}, loss: [{2: .4f}]'.format(e, step, loss.data.cpu()[0])\n",
    "            eval()"
   ]
  },
  {
   "cell_type": "code",
   "execution_count": 8,
   "metadata": {
    "collapsed": true
   },
   "outputs": [],
   "source": [
    "def eval():\n",
    "    model.eval()\n",
    "    for images, labels in mnist_test_loader:\n",
    "        x = Variable(images.cuda(2))\n",
    "        logits = model(x)\n",
    "        _, labels_pred = torch.max(logits, 1)\n",
    "        print 'test acc: {}'.format(np.mean((labels_pred.data.cpu() == labels)))"
   ]
  },
  {
   "cell_type": "code",
   "execution_count": 39,
   "metadata": {
    "collapsed": true
   },
   "outputs": [],
   "source": [
    "from sklearn.metrics import confusion_matrix"
   ]
  },
  {
   "cell_type": "code",
   "execution_count": 61,
   "metadata": {
    "collapsed": true
   },
   "outputs": [],
   "source": [
    "y_test = mnist_test_loader.__iter__().next()[1].cpu().numpy()\n",
    "for images, _ in mnist_test_loader:\n",
    "    x = Variable(images.cuda(2))\n",
    "    logits = model(x)\n",
    "    _, labels_pred = torch.max(logits, 1)"
   ]
  },
  {
   "cell_type": "code",
   "execution_count": 67,
   "metadata": {},
   "outputs": [
    {
     "data": {
      "text/plain": [
       "<matplotlib.axes._subplots.AxesSubplot at 0x7f3b8190f410>"
      ]
     },
     "execution_count": 67,
     "metadata": {},
     "output_type": "execute_result"
    },
    {
     "data": {
      "image/png": "[encoded data removed]",
      "text/plain": [
       "<matplotlib.figure.Figure at 0x7f3b8190fc50>"
      ]
     },
     "metadata": {},
     "output_type": "display_data"
    }
   ],
   "source": [
    "sns.countplot(y_test)"
   ]
  },
  {
   "cell_type": "code",
   "execution_count": 68,
   "metadata": {
    "collapsed": true,
    "scrolled": true
   },
   "outputs": [],
   "source": [
    "cm = confusion_matrix(labels_pred.data.cpu().numpy(), y_test)"
   ]
  },
  {
   "cell_type": "code",
   "execution_count": 73,
   "metadata": {},
   "outputs": [
    {
     "data": {
      "text/plain": [
       "Text(33,0.5,u'Pred')"
      ]
     },
     "execution_count": 73,
     "metadata": {},
     "output_type": "execute_result"
    },
    {
     "data": {
      "image/png": "[encoded data removed]",
      "text/plain": [
       "<matplotlib.figure.Figure at 0x7f3b813ebdd0>"
      ]
     },
     "metadata": {},
     "output_type": "display_data"
    }
   ],
   "source": [
    "sns.heatmap(cm, fmt='2d', annot=True, cmap='Blues', \n",
    "            xticklabels=['airplane','automobile','bird','cat','deer','dog','frog','horse','ship','truck']\n",
    "           )\n",
    "plt.xlabel('True')\n",
    "plt.ylabel('Pred')"
   ]
  },
  {
   "cell_type": "code",
   "execution_count": 38,
   "metadata": {
    "collapsed": true
   },
   "outputs": [],
   "source": [
    "import pandas as pd\n",
    "\n",
    "data_test = pd.read_csv('../kaggle/mnist/test.csv')\n",
    "\n",
    "x = Variable(torch.Tensor(data_test.values.reshape([-1, 1, 28, 28]) / 255.).cuda(2))\n",
    "\n",
    "logits = model(x)\n",
    "_, labels_pred = torch.max(logits, 1)\n",
    "\n",
    "labels_predict = labels_pred.data.cpu().numpy()\n",
    "\n",
    "df = pd.DataFrame(np.concatenate((np.arange(1, 28001)[:, None],labels_predict[:, None]), axis=1), columns=['ImageId', 'Label'])\n",
    "\n",
    "df.to_csv('submission.csv', index=False)"
   ]
  },
  {
   "cell_type": "code",
   "execution_count": null,
   "metadata": {
    "collapsed": true
   },
   "outputs": [],
   "source": []
  }
 ],
 "metadata": {
  "kernelspec": {
   "display_name": "Python2 (nlpenv)",
   "language": "python",
   "name": "nlpenv"
  },
  "language_info": {
   "codemirror_mode": {
    "name": "ipython",
    "version": 2
   },
   "file_extension": ".py",
   "mimetype": "text/x-python",
   "name": "python",
   "nbconvert_exporter": "python",
   "pygments_lexer": "ipython2",
   "version": "2.7.12"
  }
 },
 "nbformat": 4,
 "nbformat_minor": 2
}
