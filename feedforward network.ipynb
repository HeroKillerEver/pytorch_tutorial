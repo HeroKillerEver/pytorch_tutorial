{
 "cells": [
  {
   "cell_type": "code",
   "execution_count": 1,
   "metadata": {
    "collapsed": true
   },
   "outputs": [],
   "source": [
    "import torch \n",
    "from torch import nn\n",
    "from torch.autograd import Variable\n",
    "import torchvision\n",
    "import numpy as np\n",
    "from matplotlib import pyplot as plt\n",
    "import seaborn as sns\n",
    "%load_ext autoreload\n",
    "%autoreload 2\n",
    "%matplotlib inline\n",
    "plt.rcParams['figure.figsize'] = (10, 6)\n",
    "plt.rcParams['image.interpolation'] = 'nearest'\n",
    "plt.rcParams['image.cmap'] = 'gray'\n",
    "sns.set(color_codes=True)\n",
    "\n",
    "import torchvision.datasets as dsets\n",
    "import torchvision.transforms as T\n",
    "\n",
    "from torch.utils.data import DataLoader"
   ]
  },
  {
   "cell_type": "code",
   "execution_count": 2,
   "metadata": {
    "collapsed": true
   },
   "outputs": [],
   "source": [
    "batch = 100\n",
    "in_dim = 28 * 28\n",
    "hidden_dim = 100\n",
    "out_dim = 10\n",
    "n_epoch = 5\n",
    "lr = 1e-2"
   ]
  },
  {
   "cell_type": "code",
   "execution_count": 3,
   "metadata": {
    "collapsed": true,
    "scrolled": true
   },
   "outputs": [],
   "source": [
    "mnist_train = dsets.MNIST(root='./data', train=True, transform=T.ToTensor(), download=True)\n",
    "mnist_test = dsets.MNIST(root='./data', train=False, transform=T.ToTensor(), download=True)"
   ]
  },
  {
   "cell_type": "code",
   "execution_count": 4,
   "metadata": {
    "collapsed": true
   },
   "outputs": [],
   "source": [
    "mnist_train_loader = DataLoader(mnist_train, batch_size=batch, shuffle=True, num_workers=5)\n",
    "mnist_test_loader = DataLoader(mnist_test, batch_size=10000, shuffle=False, num_workers=5)"
   ]
  },
  {
   "cell_type": "code",
   "execution_count": 5,
   "metadata": {
    "collapsed": true
   },
   "outputs": [],
   "source": [
    "class Model(nn.Module):\n",
    "    def __init__(self, in_dim, hidden_dim, out_dim):\n",
    "        super(Model, self).__init__()\n",
    "        self.fc1 = nn.Linear(in_dim, hidden_dim)\n",
    "        self.relu = nn.ReLU(inplace=True)\n",
    "        self.fc2 = nn.Linear(hidden_dim, out_dim)\n",
    "    def forward(self, x):\n",
    "        net = self.fc1(x)\n",
    "        net = self.relu(net)\n",
    "        net = self.fc2(net)\n",
    "        return net"
   ]
  },
  {
   "cell_type": "code",
   "execution_count": 6,
   "metadata": {
    "collapsed": true
   },
   "outputs": [],
   "source": [
    "model = Model(in_dim, hidden_dim, out_dim)\n",
    "model.cuda(device=1)\n",
    "criterion = nn.CrossEntropyLoss().cuda(device=1)\n",
    "optim = torch.optim.Adam(model.parameters(), lr)"
   ]
  },
  {
   "cell_type": "code",
   "execution_count": 7,
   "metadata": {},
   "outputs": [
    {
     "name": "stdout",
     "output_type": "stream",
     "text": [
      "epoch: [0/5], iter:  0, loss: [ 2.3411]\n",
      "epoch: [0/5], iter:  100, loss: [ 0.2154]\n",
      "epoch: [0/5], iter:  200, loss: [ 0.1975]\n",
      "epoch: [0/5], iter:  300, loss: [ 0.1142]\n",
      "epoch: [0/5], iter:  400, loss: [ 0.0474]\n",
      "epoch: [0/5], iter:  500, loss: [ 0.1247]\n",
      "epoch: [1/5], iter:  0, loss: [ 0.0885]\n",
      "epoch: [1/5], iter:  100, loss: [ 0.0492]\n",
      "epoch: [1/5], iter:  200, loss: [ 0.1291]\n",
      "epoch: [1/5], iter:  300, loss: [ 0.0787]\n",
      "epoch: [1/5], iter:  400, loss: [ 0.0205]\n",
      "epoch: [1/5], iter:  500, loss: [ 0.0727]\n",
      "epoch: [2/5], iter:  0, loss: [ 0.0763]\n",
      "epoch: [2/5], iter:  100, loss: [ 0.0392]\n",
      "epoch: [2/5], iter:  200, loss: [ 0.0635]\n",
      "epoch: [2/5], iter:  300, loss: [ 0.0730]\n",
      "epoch: [2/5], iter:  400, loss: [ 0.1127]\n",
      "epoch: [2/5], iter:  500, loss: [ 0.1678]\n",
      "epoch: [3/5], iter:  0, loss: [ 0.0905]\n",
      "epoch: [3/5], iter:  100, loss: [ 0.0138]\n",
      "epoch: [3/5], iter:  200, loss: [ 0.0382]\n",
      "epoch: [3/5], iter:  300, loss: [ 0.1351]\n",
      "epoch: [3/5], iter:  400, loss: [ 0.1130]\n",
      "epoch: [3/5], iter:  500, loss: [ 0.1450]\n",
      "epoch: [4/5], iter:  0, loss: [ 0.1173]\n",
      "epoch: [4/5], iter:  100, loss: [ 0.0471]\n",
      "epoch: [4/5], iter:  200, loss: [ 0.2057]\n",
      "epoch: [4/5], iter:  300, loss: [ 0.0356]\n",
      "epoch: [4/5], iter:  400, loss: [ 0.0751]\n",
      "epoch: [4/5], iter:  500, loss: [ 0.1424]\n"
     ]
    }
   ],
   "source": [
    "for e in range(n_epoch):\n",
    "    for i, (images, labels) in enumerate(mnist_train_loader):\n",
    "        x = Variable(images.view(-1, 28*28).cuda(1))\n",
    "        y = Variable(labels.cuda(1))\n",
    "        logits = model(x)\n",
    "        loss = criterion(logits, y)\n",
    "        model.zero_grad()\n",
    "        loss.backward()\n",
    "        optim.step()        \n",
    "        if i % 100 == 0:\n",
    "            print 'epoch: [{0:d}/{1:d}], iter: {2: d}, loss: [{3: .4f}]'.format(e, n_epoch, i, loss.data[0])   "
   ]
  },
  {
   "cell_type": "code",
   "execution_count": 8,
   "metadata": {},
   "outputs": [
    {
     "name": "stdout",
     "output_type": "stream",
     "text": [
      "0.9675\n"
     ]
    }
   ],
   "source": [
    "for images, labels in mnist_test_loader:\n",
    "    x = Variable(images.view(-1, 784).cuda(1))\n",
    "    logits = model(x)\n",
    "    _, labels_pred = torch.max(logits, 1)\n",
    "    print np.mean((labels_pred.data.cpu() == labels))"
   ]
  }
 ],
 "metadata": {
  "kernelspec": {
   "display_name": "Python2 (nlpenv)",
   "language": "python",
   "name": "nlpenv"
  },
  "language_info": {
   "codemirror_mode": {
    "name": "ipython",
    "version": 2
   },
   "file_extension": ".py",
   "mimetype": "text/x-python",
   "name": "python",
   "nbconvert_exporter": "python",
   "pygments_lexer": "ipython2",
   "version": "2.7.12"
  }
 },
 "nbformat": 4,
 "nbformat_minor": 2
}
